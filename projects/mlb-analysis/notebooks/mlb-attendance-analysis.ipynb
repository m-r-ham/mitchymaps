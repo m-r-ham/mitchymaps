{
 "cells": [
  {
   "cell_type": "markdown",
   "metadata": {},
   "source": [
    "MLB attendance analysis and correlation with household income & population density"
   ]
  },
  {
   "cell_type": "code",
   "execution_count": 36,
   "metadata": {},
   "outputs": [
    {
     "ename": "AttributeError",
     "evalue": "'function' object has no attribute 'states_2021'",
     "output_type": "error",
     "traceback": [
      "\u001b[0;31m---------------------------------------------------------------------------\u001b[0m",
      "\u001b[0;31mAttributeError\u001b[0m                            Traceback (most recent call last)",
      "Cell \u001b[0;32mIn[36], line 6\u001b[0m\n\u001b[1;32m      3\u001b[0m \u001b[38;5;28;01mimport\u001b[39;00m \u001b[38;5;21;01mpandas\u001b[39;00m \u001b[38;5;28;01mas\u001b[39;00m \u001b[38;5;21;01mpd\u001b[39;00m\n\u001b[1;32m      5\u001b[0m \u001b[38;5;66;03m# Define the FIPS codes for the states to exclude Alaska and Hawaii\u001b[39;00m\n\u001b[0;32m----> 6\u001b[0m fips \u001b[38;5;241m=\u001b[39m [state \u001b[38;5;28;01mfor\u001b[39;00m state \u001b[38;5;129;01min\u001b[39;00m tracts\u001b[38;5;241m.\u001b[39mstates_2021()[\u001b[38;5;124m'\u001b[39m\u001b[38;5;124mSTUSPS\u001b[39m\u001b[38;5;124m'\u001b[39m] \u001b[38;5;28;01mif\u001b[39;00m state \u001b[38;5;129;01mnot\u001b[39;00m \u001b[38;5;129;01min\u001b[39;00m [\u001b[38;5;124m'\u001b[39m\u001b[38;5;124mAK\u001b[39m\u001b[38;5;124m'\u001b[39m, \u001b[38;5;124m'\u001b[39m\u001b[38;5;124mHI\u001b[39m\u001b[38;5;124m'\u001b[39m]]\n\u001b[1;32m      8\u001b[0m \u001b[38;5;66;03m# Initialize an empty GeoDataFrame for all census tracts\u001b[39;00m\n\u001b[1;32m      9\u001b[0m all_census_tracts \u001b[38;5;241m=\u001b[39m gpd\u001b[38;5;241m.\u001b[39mGeoDataFrame()\n",
      "\u001b[0;31mAttributeError\u001b[0m: 'function' object has no attribute 'states_2021'"
     ]
    }
   ],
   "source": [
    "import geopandas as gpd\n",
    "from pygris import tracts\n",
    "import pandas as pd\n",
    "\n",
    "# Define the FIPS codes for the states to exclude Alaska and Hawaii\n",
    "fips = [state for state in tracts.states_2021()['STUSPS'] if state not in ['AK', 'HI']]\n",
    "\n",
    "# Initialize an empty GeoDataFrame for all census tracts\n",
    "all_census_tracts = gpd.GeoDataFrame()\n",
    "\n",
    "# Loop through each state and fetch the census tracts\n",
    "for state in fips:\n",
    "    state_tracts = tracts(state=state, year=2021, cb=True)\n",
    "    all_census_tracts = pd.concat([all_census_tracts, state_tracts], ignore_index=True)\n",
    "\n",
    "# Ensure the CRS is set correctly\n",
    "all_census_tracts = all_census_tracts.set_crs(epsg=4326, allow_override=True)\n",
    "\n",
    "# Load MLB stadiums data\n",
    "stadium_csv_path = '/Users/mitchellhamilton/m-r-ham.github.io/mitchymaps.github.io/projects/mlb-analysis/data/mlb_stadiums_geocoded_logos.csv'\n",
    "stadiums_gdf = gpd.read_file(stadium_csv_path)\n",
    "stadiums_gdf = gpd.GeoDataFrame(stadiums_gdf, geometry=gpd.points_from_xy(stadiums_gdf.Longitude, stadiums_gdf.Latitude), crs=\"EPSG:4326\")\n",
    "\n",
    "print(\"Loaded census tracts and MLB stadiums data.\")\n"
   ]
  },
  {
   "cell_type": "code",
   "execution_count": null,
   "metadata": {},
   "outputs": [],
   "source": [
    "# Ensure the stadiums GeoDataFrame is in the correct CRS and project to a suitable CRS\n",
    "stadiums_gdf = stadiums_gdf.to_crs(epsg=3857)\n",
    "\n",
    "# Create a 32 km (20-mile) buffer around each stadium\n",
    "buffer_distance = 32000  # in meters\n",
    "stadiums_gdf['buffer'] = stadiums_gdf.buffer(buffer_distance)\n",
    "\n",
    "# Transform the buffers back to the original geographic CRS\n",
    "stadiums_gdf = stadiums_gdf.set_geometry('buffer').to_crs(epsg=4326)\n",
    "\n",
    "# Ensure all census tracts are in the correct CRS\n",
    "all_census_tracts = all_census_tracts.to_crs(epsg=4326)\n",
    "\n",
    "# Find census tracts within the buffers\n",
    "all_tracts_in_buffers = gpd.sjoin(all_census_tracts, stadiums_gdf[['buffer']], how='inner', op='intersects')"
   ]
  },
  {
   "cell_type": "code",
   "execution_count": null,
   "metadata": {},
   "outputs": [],
   "source": [
    "from pygris.data import get_census\n",
    "\n",
    "# Define the variables to fetch\n",
    "variables = [\n",
    "    \"B01003_001E\",  # Total Population\n",
    "    \"B19013_001E\",  # Median Household Income\n",
    "    \"B25077_001E\",  # Median Home Value\n",
    "    \"B02001_002E\",  # White Population\n",
    "    \"B02001_003E\",  # Black Population\n",
    "    \"B02001_004E\",  # American Indian and Alaska Native Population\n",
    "    \"B02001_005E\",  # Asian Population\n",
    "    \"B02001_006E\",  # Native Hawaiian and Other Pacific Islander Population\n",
    "    \"B02001_007E\",  # Some Other Race Population\n",
    "    \"B02001_008E\"   # Two or More Races Population\n",
    "]\n",
    "\n",
    "# Fetch census data for the required variables\n",
    "census_data = get_census(\n",
    "    dataset='acs/acs5',\n",
    "    variables=variables,\n",
    "    year=2021,\n",
    "    params={\n",
    "        \"for\": \"tract:*\",\n",
    "        \"in\": f\"state:*\"\n",
    "    },\n",
    "    guess_dtypes=True,\n",
    "    return_geoid=True\n",
    ")\n",
    "\n",
    "# Convert to GeoDataFrame and merge with census tracts\n",
    "census_gdf = gpd.GeoDataFrame(census_data)\n",
    "census_gdf = census_gdf.set_geometry('geometry')\n",
    "all_tracts_in_buffers = all_tracts_in_buffers.merge(census_gdf, on='GEOID')\n",
    "\n",
    "# Calculate the area of each tract in square kilometers\n",
    "all_tracts_in_buffers['area_km2'] = all_tracts_in_buffers.geometry.area / 1e6\n",
    "\n",
    "# Calculate population density (people per square kilometer)\n",
    "all_tracts_in_buffers['population_density'] = all_tracts_in_buffers['B01003_001E'] / all_tracts_in_buffers['area_km2']\n",
    "\n",
    "# Calculate population density (people per square mile)\n",
    "all_tracts_in_buffers['population_density_sq_mi'] = all_tracts_in_buffers['B01003_001E'] / (all_tracts_in_buffers['area_km2'] * 0.386102)"
   ]
  },
  {
   "cell_type": "code",
   "execution_count": null,
   "metadata": {},
   "outputs": [],
   "source": [
    "import matplotlib.pyplot as plt\n",
    "\n",
    "# Define the color scale range based on actual data\n",
    "vmin = all_tracts_in_buffers['population_density_sq_mi'].min()\n",
    "vmax = all_tracts_in_buffers['population_density_sq_mi'].max()\n",
    "\n",
    "# Plot Population Density within buffers\n",
    "fig, ax = plt.subplots(figsize=(10, 6))\n",
    "all_tracts_in_buffers.plot(column='population_density_sq_mi', cmap='viridis', legend=True, ax=ax, vmin=vmin, vmax=vmax)\n",
    "stadiums_gdf.set_geometry('geometry').plot(ax=ax, color='red', markersize=50, label='Stadiums')\n",
    "plt.title('Population Density (people per sq mile) within 20-Mile Buffers Around MLB Stadiums')\n",
    "plt.legend()\n",
    "plt.show()\n",
    "\n",
    "# Save the plot\n",
    "plt.savefig('/path/to/save/density_mlb_stadiums.png', dpi=300, bbox_inches='tight')"
   ]
  }
 ],
 "metadata": {
  "kernelspec": {
   "display_name": "Python 3 (ipykernel)",
   "language": "python",
   "name": "python3"
  },
  "language_info": {
   "codemirror_mode": {
    "name": "ipython",
    "version": 3
   },
   "file_extension": ".py",
   "mimetype": "text/x-python",
   "name": "python",
   "nbconvert_exporter": "python",
   "pygments_lexer": "ipython3",
   "version": "3.11.5"
  }
 },
 "nbformat": 4,
 "nbformat_minor": 2
}
