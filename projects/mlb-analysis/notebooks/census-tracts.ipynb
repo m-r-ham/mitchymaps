{
 "cells": [
  {
   "cell_type": "code",
   "execution_count": null,
   "metadata": {},
   "outputs": [],
   "source": [
    "import pygris\n",
    "import geopandas as gpd\n",
    "import pandas as pd\n",
    "import matplotlib.pyplot as plt\n",
    "\n",
    "# List of state FIPS codes\n",
    "state_fips_codes = [\n",
    "    '01', '02', '04', '05', '06', '08', '09', '10', '11', '12', '13', '15', '16', '17', '18', '19', '20', '21', '22', '23', \n",
    "    '24', '25', '26', '27', '28', '29', '30', '31', '32', '33', '34', '35', '36', '37', '38', '39', '40', '41', '42', '44', \n",
    "    '45', '46', '47', '48', '49', '50', '51', '53', '54', '55', '56'\n",
    "]\n",
    "\n",
    "# Initialize an empty GeoDataFrame\n",
    "all_census_tracts = gpd.GeoDataFrame()\n",
    "\n",
    "# Loop through each state and pull the census tract data\n",
    "for fips in state_fips_codes:\n",
    "    state_tracts = pygris.tracts(state=fips, year=2020)\n",
    "    all_census_tracts = pd.concat([all_census_tracts, state_tracts], ignore_index=True)\n",
    "\n",
    "# Checking the first few rows of the combined data\n",
    "print(all_census_tracts.head())\n",
    "\n",
    "# Plotting the combined census tracts\n",
    "all_census_tracts.plot()\n",
    "plt.title('Census Tracts in the US')\n",
    "plt.show()"
   ]
  }
 ],
 "metadata": {
  "language_info": {
   "name": "python"
  }
 },
 "nbformat": 4,
 "nbformat_minor": 2
}
