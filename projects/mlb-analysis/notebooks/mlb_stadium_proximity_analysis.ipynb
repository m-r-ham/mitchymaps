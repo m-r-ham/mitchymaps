{
 "cells": [
  {
   "cell_type": "code",
   "execution_count": null,
   "metadata": {},
   "outputs": [],
   "source": [
    "import pandas as pd\n",
    "import geopandas as gpd\n",
    "from shapely.geometry import Point\n",
    "import os"
   ]
  },
  {
   "cell_type": "markdown",
   "metadata": {},
   "source": [
    "Load the MLB stadiums data into a dataframe & then convert to a geodataframe"
   ]
  },
  {
   "cell_type": "code",
   "execution_count": null,
   "metadata": {},
   "outputs": [],
   "source": [
    "# Load the stadium data\n",
    "stadium_csv_path = '/Users/mitchellhamilton/m-r-ham.github.io/mitchymaps.github.io/projects/mlb-analysis/data/mlb_stadiums_geocoded.csv'\n",
    "stadiums = pd.read_csv(stadium_csv_path)\n",
    "\n",
    "# Convert to GeoDataFrame\n",
    "stadiums['geometry'] = stadiums.apply(lambda row: Point(row['Longitude'], row['Latitude']), axis=1)\n",
    "stadiums_gdf = gpd.GeoDataFrame(stadiums, geometry='geometry')\n",
    "\n",
    "# Ensure the GeoDataFrame has the correct CRS\n",
    "stadiums_gdf.set_crs(epsg=4326, inplace=True)"
   ]
  },
  {
   "cell_type": "markdown",
   "metadata": {},
   "source": [
    "Load census tract shapefiles for each state & merge into 1"
   ]
  },
  {
   "cell_type": "code",
   "execution_count": null,
   "metadata": {},
   "outputs": [],
   "source": [
    "# Directory where all state shapefiles are extracted\n",
    "shapefile_dir = '/path/to/shapefiles/'  # Update with your actual directory\n",
    "\n",
    "# Load all shapefiles and merge them into a single GeoDataFrame\n",
    "all_tracts_gdf = gpd.GeoDataFrame()\n",
    "for state_shapefile in os.listdir(shapefile_dir):\n",
    "    if state_shapefile.endswith('.shp'):\n",
    "        state_gdf = gpd.read_file(os.path.join(shapefile_dir, state_shapefile))\n",
    "        all_tracts_gdf = all_tracts_gdf.append(state_gdf, ignore_index=True)\n",
    "\n",
    "# Ensure the GeoDataFrame has the correct CRS\n",
    "all_tracts_gdf.set_crs(epsg=4326, inplace=True)\n",
    "\n",
    "# Calculate centroids of tracts\n",
    "all_tracts_gdf['centroid'] = all_tracts_gdf.centroid\n"
   ]
  },
  {
   "cell_type": "markdown",
   "metadata": {},
   "source": [
    "Calculate proximity"
   ]
  },
  {
   "cell_type": "code",
   "execution_count": null,
   "metadata": {},
   "outputs": [],
   "source": [
    "from shapely.ops import nearest_points\n",
    "\n",
    "def calculate_nearest(row, destination_gdf, point_column='centroid', dest_point_column='geometry'):\n",
    "    destination_geom = destination_gdf[dest_point_column].unary_union\n",
    "    nearest_geom = nearest_points(row[point_column], destination_geom)[1]\n",
    "    return nearest_geom\n",
    "\n",
    "# Add nearest stadium geometry to tracts GeoDataFrame\n",
    "all_tracts_gdf['nearest_stadium'] = all_tracts_gdf.apply(calculate_nearest, destination_gdf=stadiums_gdf, axis=1)\n",
    "\n",
    "# Calculate distance to nearest stadium\n",
    "all_tracts_gdf['distance_to_stadium'] = all_tracts_gdf.apply(\n",
    "    lambda row: row['centroid'].distance(row['nearest_stadium']),\n",
    "    axis=1\n",
    ")\n",
    "\n",
    "# Convert distance to kilometers (assuming the distance is in degrees, approximate conversion)\n",
    "all_tracts_gdf['distance_to_stadium_km'] = all_tracts_gdf['distance_to_stadium'] * 111  # Rough conversion factor"
   ]
  },
  {
   "cell_type": "code",
   "execution_count": null,
   "metadata": {},
   "outputs": [],
   "source": [
    "import folium\n",
    "\n",
    "# Create a map centered on the USA\n",
    "map_center = [39.8283, -98.5795]\n",
    "m = folium.Map(location=map_center, zoom_start=4)\n",
    "\n",
    "# Add tracts colored by distance to nearest stadium\n",
    "all_tracts_gdf['lat'] = all_tracts_gdf['centroid'].apply(lambda point: point.y)\n",
    "all_tracts_gdf['lon'] = all_tracts_gdf['centroid'].apply(lambda point: point.x)\n",
    "\n",
    "for idx, row in all_tracts_gdf.iterrows():\n",
    "    folium.CircleMarker(\n",
    "        location=[row['lat'], row['lon']],\n",
    "        radius=3,\n",
    "        color='blue' if row['distance_to_stadium_km'] <= 10 else 'red',\n",
    "        fill=True,\n",
    "        fill_opacity=0.6,\n",
    "        popup=f\"Tract: {row['GEOID']}<br>Distance to stadium: {row['distance_to_stadium_km']:.2f} km\"\n",
    "    ).add_to(m)\n",
    "\n",
    "# Add stadium markers\n",
    "for idx, row in stadiums_gdf.iterrows():\n",
    "    folium.Marker(\n",
    "        location=[row['Latitude'], row['Longitude']],\n",
    "        popup=f\"{row['Team']}<br>{row['Stadium']}\"\n",
    "    ).add_to(m)\n",
    "\n",
    "# Save map to an HTML file\n",
    "m.save('tracts_stadium_proximity_map.html')"
   ]
  },
  {
   "cell_type": "markdown",
   "metadata": {},
   "source": [
    "Quick analysis"
   ]
  },
  {
   "cell_type": "code",
   "execution_count": null,
   "metadata": {},
   "outputs": [],
   "source": [
    "# Summary statistics\n",
    "average_distance = all_tracts_gdf['distance_to_stadium_km'].mean()\n",
    "tracts_within_10km = all_tracts_gdf[all_tracts_gdf['distance_to_stadium_km'] <= 10].shape[0]\n",
    "\n",
    "print(f\"Average distance to nearest stadium: {average_distance:.2f} km\")\n",
    "print(f\"Number of tracts within 10 km of a stadium: {tracts_within_10km}\")\n"
   ]
  },
  {
   "cell_type": "markdown",
   "metadata": {},
   "source": [
    "FULL CODE -- SPLIT AND UPDATE LATER!"
   ]
  },
  {
   "cell_type": "code",
   "execution_count": null,
   "metadata": {},
   "outputs": [],
   "source": [
    "import geopandas as gpd\n",
    "import os\n",
    "import pandas as pd\n",
    "from shapely.geometry import Point\n",
    "from shapely.ops import nearest_points\n",
    "import folium\n",
    "\n",
    "# Directory where all state shapefiles are extracted\n",
    "shapefile_dir = '/path/to/shapefiles/'  # Update with your actual directory\n",
    "\n",
    "# Load all shapefiles and merge them into a single GeoDataFrame\n",
    "all_tracts_gdf = gpd.GeoDataFrame()\n",
    "for state_shapefile in os.listdir(shapefile_dir):\n",
    "    if state_shapefile.endswith('.shp'):\n",
    "        state_gdf = gpd.read_file(os.path.join(shapefile_dir, state_shapefile))\n",
    "        all_tracts_gdf = all_tracts_gdf.append(state_gdf, ignore_index=True)\n",
    "\n",
    "# Ensure the GeoDataFrame has the correct CRS\n",
    "all_tracts_gdf.set_crs(epsg=4326, inplace=True)\n",
    "\n",
    "# Calculate centroids of tracts\n",
    "all_tracts_gdf['centroid'] = all_tracts_gdf.centroid\n",
    "\n",
    "# Load the stadium data\n",
    "stadium_csv_path = '/path/to/your/output_csv_file.csv'\n",
    "stadiums = pd.read_csv(stadium_csv_path)\n",
    "\n",
    "# Convert to GeoDataFrame\n",
    "stadiums['geometry'] = stadiums.apply(lambda row: Point(row['Longitude'], row['Latitude']), axis=1)\n",
    "stadiums_gdf = gpd.GeoDataFrame(stadiums, geometry='geometry')\n",
    "\n",
    "# Ensure the GeoDataFrame has the correct CRS\n",
    "stadiums_gdf.set_crs(epsg=4326, inplace=True)\n",
    "\n",
    "# Calculate the nearest stadium\n",
    "def calculate_nearest(row, destination_gdf, point_column='centroid', dest_point_column='geometry'):\n",
    "    destination_geom = destination_gdf[dest_point_column].unary_union\n",
    "    nearest_geom = nearest_points(row[point_column], destination_geom)[1]\n",
    "    return nearest_geom\n",
    "\n",
    "# Add nearest stadium geometry to tracts GeoDataFrame\n",
    "all_tracts_gdf['nearest_stadium'] = all_tracts_gdf.apply(calculate_nearest, destination_gdf=stadiums_gdf, axis=1)\n",
    "\n",
    "# Calculate distance to nearest stadium in km\n",
    "all_tracts_gdf['distance_to_stadium_km'] = all_tracts_gdf.apply(\n",
    "    lambda row: row['centroid'].distance(row['nearest_stadium']),\n",
    "    axis=1\n",
    ") * 111  # Rough conversion factor\n",
    "\n",
    "# Convert distance to miles\n",
    "all_tracts_gdf['distance_to_stadium_miles'] = all_tracts_gdf['distance_to_stadium_km'] * 0.621371\n",
    "\n",
    "# Summary statistics\n",
    "average_distance_miles = all_tracts_gdf['distance_to_stadium_miles'].mean()\n",
    "tracts_within_10_miles = all_tracts_gdf[all_tracts_gdf['distance_to_stadium_miles'] <= 10].shape[0]\n",
    "\n",
    "print(f\"Average distance to nearest stadium: {average_distance_miles:.2f} miles\")\n",
    "print(f\"Number of tracts within 10 miles of a stadium: {tracts_within_10_miles}\")\n",
    "\n",
    "# Visualization\n",
    "# Create a map centered on the USA\n",
    "map_center = [39.8283, -98.5795]\n",
    "m = folium.Map(location=map_center, zoom_start=4)\n",
    "\n",
    "# Add tracts colored by distance to nearest stadium\n",
    "all_tracts_gdf['lat'] = all_tracts_gdf['centroid'].apply(lambda point: point.y)\n",
    "all_tracts_gdf['lon'] = all_tracts_gdf['centroid'].apply(lambda point: point.x)\n",
    "\n",
    "for idx, row in all_tracts_gdf.iterrows():\n",
    "    folium.CircleMarker(\n",
    "        location=[row['lat'], row['lon']],\n",
    "        radius=3,\n",
    "        color='blue' if row['distance_to_stadium_miles'] <= 10 else 'red',\n",
    "        fill=True,\n",
    "        fill_opacity=0.6,\n",
    "        popup=f\"Tract: {row['GEOID']}<br>Distance to stadium: {row['distance_to_stadium_miles']:.2f} miles\"\n",
    "    ).add_to(m)\n",
    "\n",
    "# Add stadium markers\n",
    "for idx, row in stadiums_gdf.iterrows():\n",
    "    folium.Marker(\n",
    "        location=[row['Latitude'], row['Longitude']],\n",
    "        popup=f\"{row['Team']}<br>{row['Stadium']}\"\n",
    "    ).add_to(m)\n",
    "\n",
    "# Save map to an HTML file\n",
    "m.save('tracts_stadium_proximity_map.html')"
   ]
  }
 ],
 "metadata": {
  "language_info": {
   "name": "python"
  }
 },
 "nbformat": 4,
 "nbformat_minor": 2
}
