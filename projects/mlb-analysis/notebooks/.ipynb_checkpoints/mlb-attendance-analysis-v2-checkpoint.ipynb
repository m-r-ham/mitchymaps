{
 "cells": [
  {
   "cell_type": "markdown",
   "metadata": {},
   "source": [
    "## MLB attendance analysis and correlation with household income & population density"
   ]
  },
  {
   "cell_type": "markdown",
   "metadata": {},
   "source": [
    "Import libraries and load data (census tracts and MLB stadiums)"
   ]
  },
  {
   "cell_type": "code",
   "execution_count": 1,
   "metadata": {},
   "outputs": [
    {
     "name": "stdout",
     "output_type": "stream",
     "text": [
      "Using the default year of 2021\n",
      "Loaded census tracts and MLB stadiums data.\n",
      "Number of census tracts: 84617\n",
      "Number of stadiums: 30\n"
     ]
    }
   ],
   "source": [
    "import geopandas as gpd\n",
    "from pygris import tracts, states\n",
    "import pandas as pd\n",
    "from pygris.data import get_census\n",
    "import matplotlib.pyplot as plt\n",
    "import seaborn as sns\n",
    "\n",
    "# Get all state FIPS codes except for Alaska and Hawaii\n",
    "all_states = states()\n",
    "fips = all_states[~all_states['STUSPS'].isin(['AK', 'HI'])]['STATEFP'].tolist()\n",
    "\n",
    "all_census_tracts = gpd.GeoDataFrame()\n",
    "\n",
    "for state_fips in fips:\n",
    "    state_tracts = tracts(state=state_fips, year=2021, cb=True)\n",
    "    all_census_tracts = pd.concat([all_census_tracts, state_tracts], ignore_index=True)\n",
    "\n",
    "all_census_tracts = all_census_tracts.set_crs(epsg=4326, allow_override=True)\n",
    "\n",
    "# Load MLB stadiums data\n",
    "stadium_csv_path = '/Users/mitchellhamilton/m-r-ham.github.io/mitchymaps.github.io/projects/mlb-analysis/data/mlb_stadiums_geocoded_logos.csv'\n",
    "stadiums_gdf = gpd.read_file(stadium_csv_path)\n",
    "stadiums_gdf = gpd.GeoDataFrame(stadiums_gdf, geometry=gpd.points_from_xy(stadiums_gdf.Longitude, stadiums_gdf.Latitude), crs=\"EPSG:4326\")\n",
    "\n",
    "print(\"Loaded census tracts and MLB stadiums data.\")\n",
    "print(f\"Number of census tracts: {len(all_census_tracts)}\")\n",
    "print(f\"Number of stadiums: {len(stadiums_gdf)}\")"
   ]
  },
  {
   "cell_type": "markdown",
   "metadata": {},
   "source": [
    "Create buffers around MLB stadiums and join with census tracts"
   ]
  },
  {
   "cell_type": "code",
   "execution_count": 2,
   "metadata": {},
   "outputs": [
    {
     "name": "stderr",
     "output_type": "stream",
     "text": [
      "/Users/mitchellhamilton/anaconda3/lib/python3.11/site-packages/IPython/core/interactiveshell.py:3493: FutureWarning: The `op` parameter is deprecated and will be removed in a future release. Please use the `predicate` parameter instead.\n",
      "  if await self.run_code(code, result, async_=asy):\n"
     ]
    },
    {
     "name": "stdout",
     "output_type": "stream",
     "text": [
      "Number of census tracts within stadium buffers: 23300\n"
     ]
    }
   ],
   "source": [
    "# Create buffers around stadiums\n",
    "stadiums_gdf = stadiums_gdf.to_crs(epsg=3857)\n",
    "buffer_distance = 32000  # 20 miles in meters\n",
    "stadiums_gdf['buffer'] = stadiums_gdf.buffer(buffer_distance)\n",
    "stadiums_gdf = stadiums_gdf.set_geometry('buffer').to_crs(epsg=4326)\n",
    "\n",
    "# Join census tracts with stadium buffers\n",
    "all_census_tracts = all_census_tracts.to_crs(epsg=4326)\n",
    "all_tracts_in_buffers = gpd.sjoin(all_census_tracts, stadiums_gdf[['buffer', 'Team']], how='inner', op='intersects')\n",
    "\n",
    "print(f\"Number of census tracts within stadium buffers: {len(all_tracts_in_buffers)}\")"
   ]
  },
  {
   "cell_type": "code",
   "execution_count": 7,
   "metadata": {
    "scrolled": false
   },
   "outputs": [
    {
     "name": "stdout",
     "output_type": "stream",
     "text": [
      "Successfully fetched data for state FIPS: 56\n",
      "Successfully fetched data for state FIPS: 24\n",
      "Successfully fetched data for state FIPS: 05\n",
      "Successfully fetched data for state FIPS: 38\n",
      "Successfully fetched data for state FIPS: 10\n",
      "Successfully fetched data for state FIPS: 35\n",
      "Successfully fetched data for state FIPS: 49\n",
      "Successfully fetched data for state FIPS: 54\n",
      "Successfully fetched data for state FIPS: 20\n",
      "Successfully fetched data for state FIPS: 13\n",
      "Successfully fetched data for state FIPS: 28\n",
      "Successfully fetched data for state FIPS: 27\n",
      "Successfully fetched data for state FIPS: 33\n",
      "Successfully fetched data for state FIPS: 29\n",
      "Successfully fetched data for state FIPS: 16\n",
      "Successfully fetched data for state FIPS: 46\n",
      "Successfully fetched data for state FIPS: 42\n",
      "Successfully fetched data for state FIPS: 40\n",
      "Successfully fetched data for state FIPS: 18\n",
      "Successfully fetched data for state FIPS: 34\n",
      "Successfully fetched data for state FIPS: 31\n",
      "Successfully fetched data for state FIPS: 08\n",
      "Successfully fetched data for state FIPS: 36\n",
      "Successfully fetched data for state FIPS: 30\n",
      "Successfully fetched data for state FIPS: 21\n",
      "Successfully fetched data for state FIPS: 50\n",
      "Successfully fetched data for state FIPS: 11\n",
      "Successfully fetched data for state FIPS: 12\n",
      "Successfully fetched data for state FIPS: 32\n",
      "Successfully fetched data for state FIPS: 47\n",
      "Successfully fetched data for state FIPS: 19\n",
      "Successfully fetched data for state FIPS: 01\n",
      "Successfully fetched data for state FIPS: 26\n",
      "Successfully fetched data for state FIPS: 06\n",
      "Successfully fetched data for state FIPS: 09\n",
      "Successfully fetched data for state FIPS: 04\n",
      "Successfully fetched data for state FIPS: 48\n",
      "Successfully fetched data for state FIPS: 51\n",
      "Successfully fetched data for state FIPS: 17\n",
      "Successfully fetched data for state FIPS: 41\n",
      "Successfully fetched data for state FIPS: 44\n",
      "Successfully fetched data for state FIPS: 45\n",
      "Successfully fetched data for state FIPS: 53\n",
      "Successfully fetched data for state FIPS: 72\n",
      "Successfully fetched data for state FIPS: 22\n",
      "Successfully fetched data for state FIPS: 23\n",
      "Successfully fetched data for state FIPS: 39\n",
      "Successfully fetched data for state FIPS: 55\n",
      "Successfully fetched data for state FIPS: 37\n",
      "Successfully fetched data for state FIPS: 25\n",
      "Census data merged and population density calculated.\n",
      "                Team  B01003_001E  B19013_001E  area_km2  population_density\n",
      "0  Baltimore Orioles         1578      18839.0  0.426590         3699.100936\n",
      "1  Baltimore Orioles         1767     100592.0  0.291663         6058.361661\n",
      "2  Baltimore Orioles         2039      94418.0  2.092964          974.216635\n",
      "3  Baltimore Orioles         2274      18013.0  0.588252         3865.688658\n",
      "4  Baltimore Orioles         2102      25204.0  0.935679         2246.496116\n",
      "Shape of all_tracts_in_buffers: (23300, 20)\n"
     ]
    }
   ],
   "source": [
    "# Chunk 3: Fetch and merge census data\n",
    "\n",
    "import requests\n",
    "from pygris.data import get_census\n",
    "\n",
    "# Define census variables\n",
    "variables = [\n",
    "    \"B01003_001E\",  # Total Population\n",
    "    \"B19013_001E\",  # Median Household Income\n",
    "]\n",
    "\n",
    "# Filter out non-state FIPS codes\n",
    "valid_fips = [fips for fips in fips if fips not in ['60', '66', '69', '78']]\n",
    "\n",
    "# Fetch census data state by state\n",
    "census_data_list = []\n",
    "for state_fips in valid_fips:\n",
    "    try:\n",
    "        state_data = get_census(\n",
    "            dataset='acs/acs5',\n",
    "            variables=variables,\n",
    "            year=2021,\n",
    "            params={\n",
    "                \"for\": \"tract:*\",\n",
    "                \"in\": f\"state:{state_fips}\"\n",
    "            },\n",
    "            guess_dtypes=True,\n",
    "            return_geoid=True\n",
    "        )\n",
    "        census_data_list.append(state_data)\n",
    "        print(f\"Successfully fetched data for state FIPS: {state_fips}\")\n",
    "    except Exception as e:\n",
    "        print(f\"Error fetching data for state FIPS {state_fips}: {str(e)}\")\n",
    "\n",
    "# Check if we got any data\n",
    "if not census_data_list:\n",
    "    print(\"No census data was successfully retrieved. Please check your internet connection and Census API access.\")\n",
    "else:\n",
    "    # Combine all state data\n",
    "    census_data = pd.concat(census_data_list, ignore_index=True)\n",
    "\n",
    "    # Merge census data with tracts in buffers\n",
    "    all_tracts_in_buffers = all_tracts_in_buffers.merge(census_data, on='GEOID')\n",
    "\n",
    "    # Calculate area and population density\n",
    "    all_tracts_in_buffers['area_km2'] = all_tracts_in_buffers.geometry.to_crs(epsg=3857).area / 1e6\n",
    "    all_tracts_in_buffers['population_density'] = all_tracts_in_buffers['B01003_001E'] / all_tracts_in_buffers['area_km2']\n",
    "\n",
    "    print(\"Census data merged and population density calculated.\")\n",
    "    print(all_tracts_in_buffers[['Team', 'B01003_001E', 'B19013_001E', 'area_km2', 'population_density']].head())\n",
    "\n",
    "# Print the shape of the resulting dataframe\n",
    "print(f\"Shape of all_tracts_in_buffers: {all_tracts_in_buffers.shape}\")"
   ]
  },
  {
   "cell_type": "markdown",
   "metadata": {},
   "source": [
    "Aggregate data by stadium"
   ]
  },
  {
   "cell_type": "code",
   "execution_count": 10,
   "metadata": {},
   "outputs": [
    {
     "name": "stdout",
     "output_type": "stream",
     "text": [
      "Data aggregated by stadium.\n",
      "                   Team  population_density  avg_median_income  \\\n",
      "0  Arizona Diamondbacks         1515.264822       70559.493045   \n",
      "1        Atlanta Braves         1124.781397       88087.404223   \n",
      "2     Baltimore Orioles         1561.927566       83814.642722   \n",
      "3        Boston Red Sox         2962.651444      108112.737864   \n",
      "4          Chicago Cubs         3697.704069       75788.206969   \n",
      "\n",
      "   AttendancePerGame_2023  \n",
      "0                   24212  \n",
      "1                   39401  \n",
      "2                   23911  \n",
      "3                   32989  \n",
      "4                   34261  \n"
     ]
    }
   ],
   "source": [
    "# Chunk 4: Aggregate data by stadium\n",
    "\n",
    "# Function to clean and convert attendance data\n",
    "def clean_attendance(attendance_str):\n",
    "    return pd.to_numeric(attendance_str.replace(',', ''), errors='coerce')\n",
    "\n",
    "# Aggregate data by stadium\n",
    "stadium_data = all_tracts_in_buffers.groupby('Team').agg({\n",
    "    'population_density': 'mean',\n",
    "    'B19013_001E': 'mean',  # Average median household income\n",
    "}).reset_index()\n",
    "\n",
    "stadium_data = stadium_data.rename(columns={\n",
    "    'B19013_001E': 'avg_median_income',\n",
    "})\n",
    "\n",
    "# Merge with attendance data and clean the attendance figures\n",
    "stadium_data = stadium_data.merge(stadiums_gdf[['Team', 'AttendancePerGame_2023']], on='Team')\n",
    "stadium_data['AttendancePerGame_2023'] = stadium_data['AttendancePerGame_2023'].apply(clean_attendance)\n",
    "\n",
    "print(\"Data aggregated by stadium.\")\n",
    "print(stadium_data.head())\n",
    "\n",
    "# Check for any remaining non-numeric values\n",
    "non_numeric = stadium_data[pd.to_numeric(stadium_data['AttendancePerGame_2023'], errors='coerce').isna()]\n",
    "if not non_numeric.empty:\n",
    "    print(\"Warning: Some attendance values could not be converted to numbers:\")\n",
    "    print(non_numeric[['Team', 'AttendancePerGame_2023']])"
   ]
  },
  {
   "cell_type": "markdown",
   "metadata": {},
   "source": [
    "Calculate correlations & visualize relationships"
   ]
  },
  {
   "cell_type": "code",
   "execution_count": 12,
   "metadata": {},
   "outputs": [
    {
     "name": "stdout",
     "output_type": "stream",
     "text": [
      "Correlations with Attendance:\n",
      "population_density        0.244509\n",
      "avg_median_income         0.058776\n",
      "AttendancePerGame_2023    1.000000\n",
      "Name: AttendancePerGame_2023, dtype: float64\n"
     ]
    },
    {
     "data": {
      "image/png": "[encoded data removed]",
      "text/plain": [
       "<Figure size 1200x600 with 2 Axes>"
      ]
     },
     "metadata": {},
     "output_type": "display_data"
    },
    {
     "name": "stdout",
     "output_type": "stream",
     "text": [
      "\n",
      "Summary Statistics:\n",
      "       population_density  avg_median_income  AttendancePerGame_2023\n",
      "count           29.000000          29.000000               29.000000\n",
      "mean          2639.254894       82287.307308            28831.517241\n",
      "std           2341.159929       18914.944704             9125.601388\n",
      "min            714.775512       52472.393204            10276.000000\n",
      "25%           1124.781397       69124.965261            22643.000000\n",
      "50%           1652.565250       76753.944081            31272.000000\n",
      "75%           3370.516197       90975.883475            34261.000000\n",
      "max          10090.608340      123993.821727            47371.000000\n"
     ]
    }
   ],
   "source": [
    "# Chunk 5: Calculate correlations and visualize relationships\n",
    "\n",
    "# Ensure all data is numeric\n",
    "numeric_cols = ['population_density', 'avg_median_income', 'AttendancePerGame_2023']\n",
    "stadium_data_numeric = stadium_data[numeric_cols].apply(pd.to_numeric, errors='coerce')\n",
    "\n",
    "# Calculate correlations\n",
    "correlations = stadium_data_numeric.corr()\n",
    "\n",
    "print(\"Correlations with Attendance:\")\n",
    "print(correlations['AttendancePerGame_2023'])\n",
    "\n",
    "# Visualize relationships\n",
    "fig, axes = plt.subplots(1, 2, figsize=(12, 6))\n",
    "\n",
    "sns.scatterplot(data=stadium_data_numeric, x='population_density', y='AttendancePerGame_2023', ax=axes[0])\n",
    "axes[0].set_xlabel('Population Density')\n",
    "axes[0].set_ylabel('Attendance Per Game (2023)')\n",
    "axes[0].set_title('Population Density vs Attendance')\n",
    "\n",
    "sns.scatterplot(data=stadium_data_numeric, x='avg_median_income', y='AttendancePerGame_2023', ax=axes[1])\n",
    "axes[1].set_xlabel('Average Median Income')\n",
    "axes[1].set_ylabel('Attendance Per Game (2023)')\n",
    "axes[1].set_title('Income vs Attendance')\n",
    "\n",
    "plt.tight_layout()\n",
    "plt.savefig('/Users/mitchellhamilton/m-r-ham.github.io/mitchymaps.github.io/projects/mlb-analysis/outputs/mlb_attendance_correlations.png', dpi=300, bbox_inches='tight')\n",
    "plt.show()\n",
    "\n",
    "# Print summary statistics\n",
    "print(\"\\nSummary Statistics:\")\n",
    "print(stadium_data_numeric.describe())"
   ]
  },
  {
   "cell_type": "markdown",
   "metadata": {},
   "source": [
    "Calc summary statistics"
   ]
  },
  {
   "cell_type": "code",
   "execution_count": 13,
   "metadata": {},
   "outputs": [
    {
     "name": "stdout",
     "output_type": "stream",
     "text": [
      "\n",
      "Summary Statistics:\n",
      "       population_density  avg_median_income  AttendancePerGame_2023\n",
      "count           29.000000          29.000000               29.000000\n",
      "mean          2639.254894       82287.307308            28831.517241\n",
      "std           2341.159929       18914.944704             9125.601388\n",
      "min            714.775512       52472.393204            10276.000000\n",
      "25%           1124.781397       69124.965261            22643.000000\n",
      "50%           1652.565250       76753.944081            31272.000000\n",
      "75%           3370.516197       90975.883475            34261.000000\n",
      "max          10090.608340      123993.821727            47371.000000\n",
      "\n",
      "Top 5 stadiums by population_density:\n",
      "                    Team  population_density\n",
      "17         New York Mets        10090.608340\n",
      "18      New York Yankees         9854.244953\n",
      "23  San Francisco Giants         4768.976031\n",
      "19     Oakland Athletics         4332.467979\n",
      "13   Los Angeles Dodgers         4151.659896\n",
      "\n",
      "Bottom 5 stadiums by population_density:\n",
      "                   Team  population_density\n",
      "11   Kansas City Royals          714.775512\n",
      "6       Cincinnati Reds          850.056092\n",
      "25  St. Louis Cardinals          898.480412\n",
      "21   Pittsburgh Pirates          965.630125\n",
      "16      Minnesota Twins         1038.384861\n",
      "\n",
      "Top 5 stadiums by avg_median_income:\n",
      "                    Team  avg_median_income\n",
      "19     Oakland Athletics      123993.821727\n",
      "23  San Francisco Giants      120718.264848\n",
      "28  Washington Nationals      118351.640777\n",
      "24      Seattle Mariners      108619.059783\n",
      "3         Boston Red Sox      108112.737864\n",
      "\n",
      "Bottom 5 stadiums by avg_median_income:\n",
      "                   Team  avg_median_income\n",
      "9        Detroit Tigers       52472.393204\n",
      "7   Cleveland Guardians       59982.681818\n",
      "25  St. Louis Cardinals       62993.659794\n",
      "15    Milwaukee Brewers       63243.062500\n",
      "26       Tampa Bay Rays       66442.728659\n",
      "\n",
      "Top 5 stadiums by AttendancePerGame_2023:\n",
      "                   Team  AttendancePerGame_2023\n",
      "13  Los Angeles Dodgers                   47371\n",
      "22     San Diego Padres                   40390\n",
      "18     New York Yankees                   40358\n",
      "25  St. Louis Cardinals                   40013\n",
      "1        Atlanta Braves                   39401\n",
      "\n",
      "Bottom 5 stadiums by AttendancePerGame_2023:\n",
      "                  Team  AttendancePerGame_2023\n",
      "19   Oakland Athletics                   10276\n",
      "14       Miami Marlins                   14356\n",
      "11  Kansas City Royals                   16136\n",
      "26      Tampa Bay Rays                   17781\n",
      "9       Detroit Tigers                   19912\n"
     ]
    }
   ],
   "source": [
    "# Print summary statistics\n",
    "print(\"\\nSummary Statistics:\")\n",
    "print(stadium_data.describe())\n",
    "\n",
    "# Identify top and bottom stadiums for each metric\n",
    "metrics = ['population_density', 'avg_median_income', 'AttendancePerGame_2023']\n",
    "for metric in metrics:\n",
    "    print(f\"\\nTop 5 stadiums by {metric}:\")\n",
    "    print(stadium_data.nlargest(5, metric)[['Team', metric]])\n",
    "    print(f\"\\nBottom 5 stadiums by {metric}:\")\n",
    "    print(stadium_data.nsmallest(5, metric)[['Team', metric]])"
   ]
  },
  {
   "cell_type": "code",
   "execution_count": 17,
   "metadata": {},
   "outputs": [
    {
     "name": "stdout",
     "output_type": "stream",
     "text": [
      "Collecting contextily\n",
      "  Obtaining dependency information for contextily from https://files.pythonhosted.org/packages/d2/84/dbcd682289fe8fa3f7c16318e06a7626608f767a9a163954df58f245adef/contextily-1.6.0-py3-none-any.whl.metadata\n",
      "  Downloading contextily-1.6.0-py3-none-any.whl.metadata (2.9 kB)\n",
      "Requirement already satisfied: geopy in /Users/mitchellhamilton/anaconda3/lib/python3.11/site-packages (from contextily) (2.4.1)\n",
      "Requirement already satisfied: matplotlib in /Users/mitchellhamilton/anaconda3/lib/python3.11/site-packages (from contextily) (3.8.0)\n",
      "Collecting mercantile (from contextily)\n",
      "  Obtaining dependency information for mercantile from https://files.pythonhosted.org/packages/b2/d6/de0cc74f8d36976aeca0dd2e9cbf711882ff8e177495115fd82459afdc4d/mercantile-1.2.1-py3-none-any.whl.metadata\n",
      "  Downloading mercantile-1.2.1-py3-none-any.whl.metadata (4.8 kB)\n",
      "Requirement already satisfied: pillow in /Users/mitchellhamilton/anaconda3/lib/python3.11/site-packages (from contextily) (10.2.0)\n",
      "Collecting rasterio (from contextily)\n",
      "  Obtaining dependency information for rasterio from https://files.pythonhosted.org/packages/4f/f7/e4ac8f3dfd11e4c718e9281a7e41417462100bc0bc575059a8eeab1e8bf0/rasterio-1.3.10-cp311-cp311-macosx_11_0_arm64.whl.metadata\n",
      "  Downloading rasterio-1.3.10-cp311-cp311-macosx_11_0_arm64.whl.metadata (14 kB)\n",
      "Requirement already satisfied: requests in /Users/mitchellhamilton/anaconda3/lib/python3.11/site-packages (from contextily) (2.31.0)\n",
      "Requirement already satisfied: joblib in /Users/mitchellhamilton/anaconda3/lib/python3.11/site-packages (from contextily) (1.2.0)\n",
      "Requirement already satisfied: xyzservices in /Users/mitchellhamilton/anaconda3/lib/python3.11/site-packages (from contextily) (2022.9.0)\n",
      "Requirement already satisfied: geographiclib<3,>=1.52 in /Users/mitchellhamilton/anaconda3/lib/python3.11/site-packages (from geopy->contextily) (2.0)\n",
      "Requirement already satisfied: contourpy>=1.0.1 in /Users/mitchellhamilton/anaconda3/lib/python3.11/site-packages (from matplotlib->contextily) (1.2.0)\n",
      "Requirement already satisfied: cycler>=0.10 in /Users/mitchellhamilton/anaconda3/lib/python3.11/site-packages (from matplotlib->contextily) (0.11.0)\n",
      "Requirement already satisfied: fonttools>=4.22.0 in /Users/mitchellhamilton/anaconda3/lib/python3.11/site-packages (from matplotlib->contextily) (4.25.0)\n",
      "Requirement already satisfied: kiwisolver>=1.0.1 in /Users/mitchellhamilton/anaconda3/lib/python3.11/site-packages (from matplotlib->contextily) (1.4.4)\n",
      "Requirement already satisfied: numpy<2,>=1.21 in /Users/mitchellhamilton/anaconda3/lib/python3.11/site-packages (from matplotlib->contextily) (1.26.4)\n",
      "Requirement already satisfied: packaging>=20.0 in /Users/mitchellhamilton/anaconda3/lib/python3.11/site-packages (from matplotlib->contextily) (23.1)\n",
      "Requirement already satisfied: pyparsing>=2.3.1 in /Users/mitchellhamilton/anaconda3/lib/python3.11/site-packages (from matplotlib->contextily) (3.0.9)\n",
      "Requirement already satisfied: python-dateutil>=2.7 in /Users/mitchellhamilton/anaconda3/lib/python3.11/site-packages (from matplotlib->contextily) (2.8.2)\n",
      "Requirement already satisfied: click>=3.0 in /Users/mitchellhamilton/anaconda3/lib/python3.11/site-packages (from mercantile->contextily) (8.1.7)\n",
      "Collecting affine (from rasterio->contextily)\n",
      "  Obtaining dependency information for affine from https://files.pythonhosted.org/packages/0b/f7/85273299ab57117850cc0a936c64151171fac4da49bc6fba0dad984a7c5f/affine-2.4.0-py3-none-any.whl.metadata\n",
      "  Downloading affine-2.4.0-py3-none-any.whl.metadata (4.0 kB)\n",
      "Requirement already satisfied: attrs in /Users/mitchellhamilton/anaconda3/lib/python3.11/site-packages (from rasterio->contextily) (23.1.0)\n",
      "Requirement already satisfied: certifi in /Users/mitchellhamilton/anaconda3/lib/python3.11/site-packages (from rasterio->contextily) (2024.2.2)\n",
      "Requirement already satisfied: cligj>=0.5 in /Users/mitchellhamilton/anaconda3/lib/python3.11/site-packages (from rasterio->contextily) (0.7.2)\n",
      "Collecting snuggs>=1.4.1 (from rasterio->contextily)\n",
      "  Obtaining dependency information for snuggs>=1.4.1 from https://files.pythonhosted.org/packages/cc/0e/d27d6e806d6c0d1a2cfdc5d1f088e42339a0a54a09c3343f7f81ec8947ea/snuggs-1.4.7-py3-none-any.whl.metadata\n",
      "  Downloading snuggs-1.4.7-py3-none-any.whl.metadata (3.4 kB)\n",
      "Requirement already satisfied: click-plugins in /Users/mitchellhamilton/anaconda3/lib/python3.11/site-packages (from rasterio->contextily) (1.1.1)\n",
      "Requirement already satisfied: setuptools in /Users/mitchellhamilton/anaconda3/lib/python3.11/site-packages (from rasterio->contextily) (68.0.0)\n",
      "Requirement already satisfied: charset-normalizer<4,>=2 in /Users/mitchellhamilton/anaconda3/lib/python3.11/site-packages (from requests->contextily) (2.0.4)\n",
      "Requirement already satisfied: idna<4,>=2.5 in /Users/mitchellhamilton/anaconda3/lib/python3.11/site-packages (from requests->contextily) (3.4)\n",
      "Requirement already satisfied: urllib3<3,>=1.21.1 in /Users/mitchellhamilton/anaconda3/lib/python3.11/site-packages (from requests->contextily) (2.0.7)\n",
      "Requirement already satisfied: six>=1.5 in /Users/mitchellhamilton/anaconda3/lib/python3.11/site-packages (from python-dateutil>=2.7->matplotlib->contextily) (1.16.0)\n",
      "Downloading contextily-1.6.0-py3-none-any.whl (17 kB)\n",
      "Downloading mercantile-1.2.1-py3-none-any.whl (14 kB)\n",
      "Downloading rasterio-1.3.10-cp311-cp311-macosx_11_0_arm64.whl (18.2 MB)\n",
      "\u001b[2K   \u001b[38;2;114;156;31m━━━━━━━━━━━━━━━━━━━━━━━━━━━━━━━━━━━━━━━━\u001b[0m \u001b[32m18.2/18.2 MB\u001b[0m \u001b[31m46.5 MB/s\u001b[0m eta \u001b[36m0:00:00\u001b[0mm eta \u001b[36m0:00:01\u001b[0m[36m0:00:01\u001b[0m\n",
      "\u001b[?25hDownloading snuggs-1.4.7-py3-none-any.whl (5.4 kB)\n",
      "Downloading affine-2.4.0-py3-none-any.whl (15 kB)\n",
      "Installing collected packages: snuggs, mercantile, affine, rasterio, contextily\n",
      "Successfully installed affine-2.4.0 contextily-1.6.0 mercantile-1.2.1 rasterio-1.3.10 snuggs-1.4.7\n"
     ]
    }
   ],
   "source": [
    "import sys\n",
    "!{sys.executable} -m pip install contextily"
   ]
  },
  {
   "cell_type": "code",
   "execution_count": 18,
   "metadata": {},
   "outputs": [
    {
     "name": "stdout",
     "output_type": "stream",
     "text": [
      "Contextily imported successfully!\n"
     ]
    }
   ],
   "source": [
    "import contextily as ctx\n",
    "print(\"Contextily imported successfully!\")"
   ]
  },
  {
   "cell_type": "code",
   "execution_count": 21,
   "metadata": {},
   "outputs": [
    {
     "name": "stdout",
     "output_type": "stream",
     "text": [
      "Created map for Arizona Diamondbacks\n",
      "Created map for Atlanta Braves\n",
      "Created map for Baltimore Orioles\n",
      "Created map for Boston Red Sox\n",
      "Created map for Chicago Cubs\n",
      "Created map for Chicago White Sox\n",
      "Created map for Cincinnati Reds\n",
      "Created map for Cleveland Guardians\n",
      "Created map for Colorado Rockies\n",
      "Created map for Detroit Tigers\n",
      "Created map for Houston Astros\n",
      "Created map for Kansas City Royals\n",
      "Created map for Los Angeles Angels\n",
      "Created map for Los Angeles Dodgers\n",
      "Created map for Miami Marlins\n",
      "Created map for Milwaukee Brewers\n",
      "Created map for Minnesota Twins\n",
      "Created map for New York Mets\n",
      "Created map for New York Yankees\n",
      "Created map for Oakland Athletics\n",
      "Created map for Philadelphia Phillies\n",
      "Created map for Pittsburgh Pirates\n",
      "Created map for San Diego Padres\n",
      "Created map for San Francisco Giants\n",
      "Created map for Seattle Mariners\n",
      "Created map for St. Louis Cardinals\n",
      "Created map for Tampa Bay Rays\n",
      "Created map for Texas Rangers\n",
      "Error creating map for Toronto Blue Jays: aspect must be finite and positive \n",
      "Created map for Washington Nationals\n",
      "All team stadium density maps have been created.\n"
     ]
    },
    {
     "data": {
      "image/png": "[encoded data removed]",
      "text/plain": [
       "<Figure size 1200x800 with 1 Axes>"
      ]
     },
     "metadata": {},
     "output_type": "display_data"
    }
   ],
   "source": [
    "import matplotlib.pyplot as plt\n",
    "import geopandas as gpd\n",
    "import numpy as np\n",
    "\n",
    "def plot_team_density(team_name, stadium_gdf, tracts_gdf):\n",
    "    # Filter tracts for the specific team\n",
    "    team_tracts = tracts_gdf[tracts_gdf['Team'] == team_name]\n",
    "    \n",
    "    # Get the stadium point\n",
    "    stadium_point = stadium_gdf[stadium_gdf['Team'] == team_name]\n",
    "    \n",
    "    # Create the plot\n",
    "    fig, ax = plt.subplots(figsize=(12, 8))\n",
    "    \n",
    "    # Plot tracts with population density\n",
    "    team_tracts.plot(column='population_density', cmap='viridis', legend=True, \n",
    "                     ax=ax, legend_kwds={'label': 'Population Density (people/km²)'})\n",
    "    \n",
    "    # Plot stadium location\n",
    "    stadium_point.plot(ax=ax, color='red', markersize=5, zorder=5)\n",
    "    \n",
    "    # Set title\n",
    "    ax.set_title(f'Population Density around {team_name} Stadium', fontsize=16)\n",
    "    \n",
    "    # Set aspect ratio safely\n",
    "    try:\n",
    "        bounds = team_tracts.total_bounds\n",
    "        y_coord = np.mean([bounds[1], bounds[3]])\n",
    "        aspect = 1 / np.cos(y_coord * np.pi / 180)\n",
    "        if np.isfinite(aspect) and aspect > 0:\n",
    "            ax.set_aspect(aspect)\n",
    "        else:\n",
    "            ax.set_aspect('equal')\n",
    "    except Exception:\n",
    "        ax.set_aspect('equal')\n",
    "    \n",
    "    # Remove axis labels\n",
    "    ax.set_axis_off()\n",
    "    \n",
    "    # Save the plot\n",
    "    plt.tight_layout()\n",
    "    plt.savefig(f'population_density_{team_name.replace(\" \", \"_\")}.png', dpi=300, bbox_inches='tight')\n",
    "    plt.close()\n",
    "\n",
    "# Ensure the CRS is set correctly for both datasets\n",
    "all_tracts_in_buffers = all_tracts_in_buffers.to_crs(epsg=4326)\n",
    "stadiums_gdf = stadiums_gdf.to_crs(epsg=4326)\n",
    "\n",
    "# Create a plot for each team\n",
    "for team in stadiums_gdf['Team'].unique():\n",
    "    try:\n",
    "        plot_team_density(team, stadiums_gdf, all_tracts_in_buffers)\n",
    "        print(f\"Created map for {team}\")\n",
    "    except Exception as e:\n",
    "        print(f\"Error creating map for {team}: {str(e)}\")\n",
    "\n",
    "print(\"All team stadium density maps have been created.\")"
   ]
  },
  {
   "cell_type": "code",
   "execution_count": 22,
   "metadata": {},
   "outputs": [
    {
     "name": "stdout",
     "output_type": "stream",
     "text": [
      "National population density map with MLB stadiums has been created.\n"
     ]
    }
   ],
   "source": [
    "import matplotlib.pyplot as plt\n",
    "import geopandas as gpd\n",
    "import matplotlib.patheffects as path_effects  # Import patheffects module\n",
    "\n",
    "def create_national_density_map(all_tracts, stadiums):\n",
    "    # Ensure both datasets are in the same CRS\n",
    "    all_tracts = all_tracts.to_crs(epsg=3857)  # Web Mercator projection\n",
    "    stadiums = stadiums.to_crs(epsg=3857)\n",
    "\n",
    "    # Create the plot\n",
    "    fig, ax = plt.subplots(figsize=(20, 12))\n",
    "\n",
    "    # Plot population density\n",
    "    all_tracts.plot(column='population_density', cmap='viridis', legend=True, \n",
    "                    ax=ax, legend_kwds={'label': 'Population Density (people/km²)', 'shrink': 0.6})\n",
    "\n",
    "    # Plot stadium locations\n",
    "    stadiums.plot(ax=ax, color='red', markersize=50, zorder=5)\n",
    "\n",
    "    # Add stadium labels\n",
    "    for idx, row in stadiums.iterrows():\n",
    "        plt.annotate(row['Team'], xy=(row.geometry.x, row.geometry.y), xytext=(3, 3), \n",
    "                     textcoords=\"offset points\", fontsize=8, color='white',\n",
    "                     path_effects=[path_effects.withStroke(linewidth=2, foreground=\"black\")])\n",
    "\n",
    "    # Set title and remove axes\n",
    "    ax.set_title('MLB Stadiums and Population Density in the United States', fontsize=16)\n",
    "    ax.axis('off')\n",
    "\n",
    "    # Add a simple north arrow\n",
    "    x, y, arrow_length = 0.05, 0.95, 0.05\n",
    "    ax.annotate('N', xy=(x, y), xytext=(x, y-arrow_length),\n",
    "                arrowprops=dict(facecolor='black', width=5, headwidth=15),\n",
    "                ha='center', va='center', fontsize=20,\n",
    "                xycoords=ax.transAxes)\n",
    "\n",
    "    # Save the plot\n",
    "    plt.tight_layout()\n",
    "    plt.savefig('national_population_density_with_stadiums.png', dpi=300, bbox_inches='tight')\n",
    "    plt.close()\n",
    "\n",
    "# Ensure the CRS is set correctly for both datasets\n",
    "all_tracts_in_buffers = all_tracts_in_buffers.to_crs(epsg=4326)\n",
    "stadiums_gdf = stadiums_gdf.to_crs(epsg=4326)\n",
    "\n",
    "# Create the national map\n",
    "create_national_density_map(all_tracts_in_buffers, stadiums_gdf)\n",
    "\n",
    "print(\"National population density map with MLB stadiums has been created.\")"
   ]
  },
  {
   "cell_type": "code",
   "execution_count": 23,
   "metadata": {},
   "outputs": [],
   "source": []
  }
 ],
 "metadata": {
  "kernelspec": {
   "display_name": "Python 3 (ipykernel)",
   "language": "python",
   "name": "python3"
  },
  "language_info": {
   "codemirror_mode": {
    "name": "ipython",
    "version": 3
   },
   "file_extension": ".py",
   "mimetype": "text/x-python",
   "name": "python",
   "nbconvert_exporter": "python",
   "pygments_lexer": "ipython3",
   "version": "3.11.5"
  }
 },
 "nbformat": 4,
 "nbformat_minor": 2
}
