{
 "cells": [
  {
   "cell_type": "markdown",
   "metadata": {},
   "source": [
    "Proximity Analysis of MLB Stadiums to Census Tracts"
   ]
  },
  {
   "cell_type": "markdown",
   "metadata": {},
   "source": [
    "Load and merge census tract data"
   ]
  },
  {
   "cell_type": "code",
   "execution_count": 9,
   "metadata": {},
   "outputs": [
    {
     "name": "stdout",
     "output_type": "stream",
     "text": [
      "Census tracts and stadiums data loaded with CRS set.\n"
     ]
    }
   ],
   "source": [
    "import pygris\n",
    "import geopandas as gpd\n",
    "import pandas as pd\n",
    "from shapely.geometry import Point\n",
    "\n",
    "# List of state FIPS codes, excluding Alaska and Hawaii\n",
    "state_fips_codes = [\n",
    "    '01', '04', '05', '06', '08', '09', '10', '11', '12', '13', '16', '17', '18', '19', '20', '21', '22', '23', \n",
    "    '24', '25', '26', '27', '28', '29', '30', '31', '32', '33', '34', '35', '36', '37', '38', '39', '40', '41', '42', '44', \n",
    "    '45', '46', '47', '48', '49', '50', '51', '53', '54', '55', '56'\n",
    "]\n",
    "\n",
    "# Initialize an empty GeoDataFrame\n",
    "all_census_tracts = gpd.GeoDataFrame()\n",
    "\n",
    "# Loop through each state and pull the census tract data\n",
    "for fips in state_fips_codes:\n",
    "    state_tracts = pygris.tracts(state=fips, year=2020)\n",
    "    all_census_tracts = pd.concat([all_census_tracts, state_tracts], ignore_index=True)\n",
    "\n",
    "# Set the CRS for the census tracts if not already set\n",
    "if all_census_tracts.crs is None:\n",
    "    all_census_tracts.set_crs(epsg=4326, inplace=True)\n",
    "\n",
    "# Load the stadium data\n",
    "stadium_csv_path = '/Users/mitchellhamilton/m-r-ham.github.io/mitchymaps.github.io/projects/mlb-analysis/data/mlb_stadiums_geocoded.csv'  # Update with actual file path\n",
    "stadiums = pd.read_csv(stadium_csv_path)\n",
    "\n",
    "# Convert to GeoDataFrame\n",
    "stadiums['geometry'] = stadiums.apply(lambda row: Point(row['Longitude'], row['Latitude']), axis=1)\n",
    "stadiums_gdf = gpd.GeoDataFrame(stadiums, geometry='geometry')\n",
    "\n",
    "# Set the CRS for the stadiums if not already set\n",
    "if stadiums_gdf.crs is None:\n",
    "    stadiums_gdf.set_crs(epsg=4326, inplace=True)\n",
    "\n",
    "print(\"Census tracts and stadiums data loaded with CRS set.\")"
   ]
  },
  {
   "cell_type": "code",
   "execution_count": 10,
   "metadata": {},
   "outputs": [
    {
     "name": "stdout",
     "output_type": "stream",
     "text": [
      "Census tracts and stadiums reprojected to EPSG:3857.\n"
     ]
    }
   ],
   "source": [
    "# Reproject the census tracts and stadiums to EPSG:3857 for distance calculations\n",
    "all_census_tracts = all_census_tracts.to_crs(epsg=3857)\n",
    "stadiums_gdf = stadiums_gdf.to_crs(epsg=3857)\n",
    "\n",
    "print(\"Census tracts and stadiums reprojected to EPSG:3857.\")"
   ]
  },
  {
   "cell_type": "code",
   "execution_count": 11,
   "metadata": {},
   "outputs": [
    {
     "name": "stdout",
     "output_type": "stream",
     "text": [
      "Centroids calculated and nearest stadiums assigned.\n"
     ]
    }
   ],
   "source": [
    "from shapely.ops import nearest_points\n",
    "\n",
    "# Calculate centroids of tracts in the new CRS\n",
    "all_census_tracts['centroid'] = all_census_tracts.geometry.centroid\n",
    "\n",
    "# Set the CRS for centroids (if needed)\n",
    "all_census_tracts['centroid'] = gpd.GeoSeries(all_census_tracts['centroid'], crs=all_census_tracts.crs)\n",
    "\n",
    "def calculate_nearest(row, destination_gdf, point_column='centroid', dest_point_column='geometry'):\n",
    "    destination_geom = destination_gdf[dest_point_column].unary_union\n",
    "    nearest_geom = nearest_points(row[point_column], destination_geom)[1]\n",
    "    return nearest_geom\n",
    "\n",
    "# Add nearest stadium geometry to tracts GeoDataFrame\n",
    "all_census_tracts['nearest_stadium'] = all_census_tracts.apply(calculate_nearest, destination_gdf=stadiums_gdf, axis=1)\n",
    "\n",
    "# Set the CRS for nearest stadiums (if needed)\n",
    "all_census_tracts['nearest_stadium'] = gpd.GeoSeries(all_census_tracts['nearest_stadium'], crs=all_census_tracts.crs)\n",
    "\n",
    "print(\"Centroids calculated and nearest stadiums assigned.\")"
   ]
  },
  {
   "cell_type": "code",
   "execution_count": 12,
   "metadata": {},
   "outputs": [
    {
     "name": "stdout",
     "output_type": "stream",
     "text": [
      "Distances to nearest stadium calculated and converted to miles.\n"
     ]
    }
   ],
   "source": [
    "# Calculate distance to nearest stadium in meters\n",
    "all_census_tracts['distance_to_stadium_meters'] = all_census_tracts.apply(\n",
    "    lambda row: row['centroid'].distance(row['nearest_stadium']),\n",
    "    axis=1\n",
    ")\n",
    "\n",
    "# Convert distance to kilometers\n",
    "all_census_tracts['distance_to_stadium_km'] = all_census_tracts['distance_to_stadium_meters'] / 1000\n",
    "\n",
    "# Convert distance to miles\n",
    "all_census_tracts['distance_to_stadium_miles'] = all_census_tracts['distance_to_stadium_km'] * 0.621371\n",
    "\n",
    "# Fill NaN values with a high value to indicate they are far from any stadium\n",
    "all_census_tracts['distance_to_stadium_miles'].fillna(9999, inplace=True)\n",
    "\n",
    "print(\"Distances to nearest stadium calculated and converted to miles.\")"
   ]
  },
  {
   "cell_type": "code",
   "execution_count": 13,
   "metadata": {},
   "outputs": [
    {
     "name": "stdout",
     "output_type": "stream",
     "text": [
      "Centroids and nearest stadiums reprojected back to EPSG:4326.\n"
     ]
    }
   ],
   "source": [
    "# Ensure the CRS is set for centroids and nearest stadiums\n",
    "if all_census_tracts.crs is None:\n",
    "    all_census_tracts.set_crs(epsg=3857, inplace=True)\n",
    "\n",
    "# Reproject the centroids and nearest stadiums back to EPSG:4326\n",
    "all_census_tracts['centroid_geo'] = all_census_tracts['centroid'].to_crs(epsg=4326)\n",
    "all_census_tracts['nearest_stadium_geo'] = all_census_tracts['nearest_stadium'].to_crs(epsg=4326)\n",
    "\n",
    "print(\"Centroids and nearest stadiums reprojected back to EPSG:4326.\")"
   ]
  },
  {
   "cell_type": "code",
   "execution_count": 14,
   "metadata": {},
   "outputs": [
    {
     "name": "stdout",
     "output_type": "stream",
     "text": [
      "Census Tract: 01045020801\n",
      "Calculated Distance (miles): 220.86423240109184\n",
      "Geopy Distance (miles): 185.36877771369703\n",
      "----------------------------------------\n",
      "Census Tract: 01017954200\n",
      "Calculated Distance (miles): 102.9053121321199\n",
      "Geopy Distance (miles): 85.74172643202536\n",
      "----------------------------------------\n",
      "Census Tract: 01017953800\n",
      "Calculated Distance (miles): 95.59595300721276\n",
      "Geopy Distance (miles): 79.6249584244217\n",
      "----------------------------------------\n",
      "Census Tract: 01017954300\n",
      "Calculated Distance (miles): 107.89671899103179\n",
      "Geopy Distance (miles): 89.92589193097008\n",
      "----------------------------------------\n",
      "Census Tract: 01017954700\n",
      "Calculated Distance (miles): 104.73144314658362\n",
      "Geopy Distance (miles): 87.26895723598173\n",
      "----------------------------------------\n",
      "Distance verification completed using geopy.\n"
     ]
    }
   ],
   "source": [
    "from geopy.distance import geodesic\n",
    "\n",
    "# Verify distances using geopy\n",
    "example_tracts = all_census_tracts.head(5)\n",
    "for index, row in example_tracts.iterrows():\n",
    "    centroid_coords = (row['centroid_geo'].y, row['centroid_geo'].x)\n",
    "    stadium_coords = (row['nearest_stadium_geo'].y, row['nearest_stadium_geo'].x)\n",
    "    distance = geodesic(centroid_coords, stadium_coords).miles\n",
    "    print(f\"Census Tract: {row['GEOID']}\")\n",
    "    print(f\"Calculated Distance (miles): {row['distance_to_stadium_miles']}\")\n",
    "    print(f\"Geopy Distance (miles): {distance}\")\n",
    "    print(\"-\" * 40)\n",
    "\n",
    "print(\"Distance verification completed using geopy.\")"
   ]
  },
  {
   "cell_type": "code",
   "execution_count": 16,
   "metadata": {},
   "outputs": [
    {
     "ename": "AttributeError",
     "evalue": "module 'matplotlib' has no attribute 'subplots'",
     "output_type": "error",
     "traceback": [
      "\u001b[0;31m---------------------------------------------------------------------------\u001b[0m",
      "\u001b[0;31mAttributeError\u001b[0m                            Traceback (most recent call last)",
      "Cell \u001b[0;32mIn[16], line 7\u001b[0m\n\u001b[1;32m      4\u001b[0m all_census_tracts[\u001b[38;5;124m'\u001b[39m\u001b[38;5;124mtime\u001b[39m\u001b[38;5;124m'\u001b[39m] \u001b[38;5;241m=\u001b[39m all_census_tracts[\u001b[38;5;124m'\u001b[39m\u001b[38;5;124mdistance_to_stadium_miles\u001b[39m\u001b[38;5;124m'\u001b[39m]\n\u001b[1;32m      6\u001b[0m \u001b[38;5;66;03m# Plot the data\u001b[39;00m\n\u001b[0;32m----> 7\u001b[0m fig, ax \u001b[38;5;241m=\u001b[39m plt\u001b[38;5;241m.\u001b[39msubplots(\u001b[38;5;241m1\u001b[39m, \u001b[38;5;241m1\u001b[39m, figsize\u001b[38;5;241m=\u001b[39m(\u001b[38;5;241m12\u001b[39m, \u001b[38;5;241m8\u001b[39m))\n\u001b[1;32m      8\u001b[0m all_census_tracts\u001b[38;5;241m.\u001b[39mplot(column\u001b[38;5;241m=\u001b[39m\u001b[38;5;124m'\u001b[39m\u001b[38;5;124mtime\u001b[39m\u001b[38;5;124m'\u001b[39m, cmap\u001b[38;5;241m=\u001b[39m\u001b[38;5;124m'\u001b[39m\u001b[38;5;124mmagma\u001b[39m\u001b[38;5;124m'\u001b[39m, linewidth\u001b[38;5;241m=\u001b[39m\u001b[38;5;241m0.8\u001b[39m, ax\u001b[38;5;241m=\u001b[39max, edgecolor\u001b[38;5;241m=\u001b[39m\u001b[38;5;124m'\u001b[39m\u001b[38;5;124m0.8\u001b[39m\u001b[38;5;124m'\u001b[39m, legend\u001b[38;5;241m=\u001b[39m\u001b[38;5;28;01mTrue\u001b[39;00m,\n\u001b[1;32m      9\u001b[0m                        legend_kwds\u001b[38;5;241m=\u001b[39m{\u001b[38;5;124m'\u001b[39m\u001b[38;5;124mlabel\u001b[39m\u001b[38;5;124m'\u001b[39m: \u001b[38;5;124m\"\u001b[39m\u001b[38;5;124mDistance to nearest stadium (miles)\u001b[39m\u001b[38;5;124m\"\u001b[39m,\n\u001b[1;32m     10\u001b[0m                                     \u001b[38;5;124m'\u001b[39m\u001b[38;5;124morientation\u001b[39m\u001b[38;5;124m'\u001b[39m: \u001b[38;5;124m\"\u001b[39m\u001b[38;5;124mhorizontal\u001b[39m\u001b[38;5;124m\"\u001b[39m,\n\u001b[1;32m     11\u001b[0m                                     \u001b[38;5;124m'\u001b[39m\u001b[38;5;124mshrink\u001b[39m\u001b[38;5;124m'\u001b[39m: \u001b[38;5;241m0.5\u001b[39m})\n\u001b[1;32m     13\u001b[0m plt\u001b[38;5;241m.\u001b[39mtitle(\u001b[38;5;124m\"\u001b[39m\u001b[38;5;124mTravel Distance (miles) to Nearest MLB Stadium\u001b[39m\u001b[38;5;124m\"\u001b[39m)\n",
      "File \u001b[0;32m~/anaconda3/lib/python3.11/site-packages/matplotlib/_api/__init__.py:217\u001b[0m, in \u001b[0;36mcaching_module_getattr.<locals>.__getattr__\u001b[0;34m(name)\u001b[0m\n\u001b[1;32m    215\u001b[0m \u001b[38;5;28;01mif\u001b[39;00m name \u001b[38;5;129;01min\u001b[39;00m props:\n\u001b[1;32m    216\u001b[0m     \u001b[38;5;28;01mreturn\u001b[39;00m props[name]\u001b[38;5;241m.\u001b[39m\u001b[38;5;21m__get__\u001b[39m(instance)\n\u001b[0;32m--> 217\u001b[0m \u001b[38;5;28;01mraise\u001b[39;00m \u001b[38;5;167;01mAttributeError\u001b[39;00m(\n\u001b[1;32m    218\u001b[0m     \u001b[38;5;124mf\u001b[39m\u001b[38;5;124m\"\u001b[39m\u001b[38;5;124mmodule \u001b[39m\u001b[38;5;132;01m{\u001b[39;00m\u001b[38;5;28mcls\u001b[39m\u001b[38;5;241m.\u001b[39m\u001b[38;5;18m__module__\u001b[39m\u001b[38;5;132;01m!r}\u001b[39;00m\u001b[38;5;124m has no attribute \u001b[39m\u001b[38;5;132;01m{\u001b[39;00mname\u001b[38;5;132;01m!r}\u001b[39;00m\u001b[38;5;124m\"\u001b[39m)\n",
      "\u001b[0;31mAttributeError\u001b[0m: module 'matplotlib' has no attribute 'subplots'"
     ]
    }
   ],
   "source": [
    "import matplotlib.pyplot as plt\n",
    "\n",
    "# Add the distance to the GeoDataFrame\n",
    "all_census_tracts['time'] = all_census_tracts['distance_to_stadium_miles']\n",
    "\n",
    "# Plot the data\n",
    "fig, ax = plt.subplots(1, 1, figsize=(12, 8))\n",
    "all_census_tracts.plot(column='time', cmap='magma', linewidth=0.8, ax=ax, edgecolor='0.8', legend=True,\n",
    "                       legend_kwds={'label': \"Distance to nearest stadium (miles)\",\n",
    "                                    'orientation': \"horizontal\",\n",
    "                                    'shrink': 0.5})\n",
    "\n",
    "plt.title(\"Travel Distance (miles) to Nearest MLB Stadium\")\n",
    "\n",
    "# Annotate with data source\n",
    "ax.annotate('Data sources: US Census Bureau, MLB', \n",
    "            xy=(0.1, 0.1), xycoords='figure fraction',\n",
    "            fontsize=8, ha='left', va='top')\n",
    "\n",
    "# Remove axis\n",
    "ax.set_axis_off()\n",
    "\n",
    "# Save the plot as a PNG file\n",
    "plt.savefig('/Users/mitchellhamilton/m-r-ham.github.io/mitchymaps.github.io/projects/mlb-analysis/outputs/distance_to_stadiums.png', dpi=300)\n",
    "\n",
    "# Show the plot\n",
    "plt.show()"
   ]
  },
  {
   "cell_type": "code",
   "execution_count": null,
   "metadata": {},
   "outputs": [],
   "source": []
  }
 ],
 "metadata": {
  "kernelspec": {
   "display_name": "Python 3 (ipykernel)",
   "language": "python",
   "name": "python3"
  },
  "language_info": {
   "codemirror_mode": {
    "name": "ipython",
    "version": 3
   },
   "file_extension": ".py",
   "mimetype": "text/x-python",
   "name": "python",
   "nbconvert_exporter": "python",
   "pygments_lexer": "ipython3",
   "version": "3.11.5"
  }
 },
 "nbformat": 4,
 "nbformat_minor": 2
}
