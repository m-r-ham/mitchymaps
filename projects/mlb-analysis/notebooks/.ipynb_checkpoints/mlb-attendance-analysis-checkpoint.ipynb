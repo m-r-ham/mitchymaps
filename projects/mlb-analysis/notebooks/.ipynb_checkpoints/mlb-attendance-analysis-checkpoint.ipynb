{
 "cells": [
  {
   "cell_type": "markdown",
   "metadata": {},
   "source": [
    "MLB attendance analysis and correlation with household income & population density"
   ]
  },
  {
   "cell_type": "code",
   "execution_count": 35,
   "metadata": {
    "collapsed": true
   },
   "outputs": [
    {
     "ename": "ValueError",
     "evalue": "The GeoSeries already has a CRS which is not equal to the passed CRS. Specify 'allow_override=True' to allow replacing the existing CRS without doing any transformation. If you actually want to transform the geometries, use 'GeoSeries.to_crs' instead.",
     "output_type": "error",
     "traceback": [
      "\u001b[0;31m---------------------------------------------------------------------------\u001b[0m",
      "\u001b[0;31mValueError\u001b[0m                                Traceback (most recent call last)",
      "Cell \u001b[0;32mIn[35], line 18\u001b[0m\n\u001b[1;32m     15\u001b[0m     state_tracts \u001b[38;5;241m=\u001b[39m tracts(state\u001b[38;5;241m=\u001b[39mfips, year\u001b[38;5;241m=\u001b[39m\u001b[38;5;241m2021\u001b[39m, cb\u001b[38;5;241m=\u001b[39m\u001b[38;5;28;01mTrue\u001b[39;00m)\n\u001b[1;32m     16\u001b[0m     all_census_tracts \u001b[38;5;241m=\u001b[39m pd\u001b[38;5;241m.\u001b[39mconcat([all_census_tracts, state_tracts], ignore_index\u001b[38;5;241m=\u001b[39m\u001b[38;5;28;01mTrue\u001b[39;00m)\n\u001b[0;32m---> 18\u001b[0m all_census_tracts \u001b[38;5;241m=\u001b[39m all_census_tracts\u001b[38;5;241m.\u001b[39mset_crs(epsg\u001b[38;5;241m=\u001b[39m\u001b[38;5;241m4326\u001b[39m)\n\u001b[1;32m     20\u001b[0m \u001b[38;5;66;03m# Load MLB stadiums data\u001b[39;00m\n\u001b[1;32m     21\u001b[0m stadium_csv_path \u001b[38;5;241m=\u001b[39m \u001b[38;5;124m'\u001b[39m\u001b[38;5;124m/Users/mitchellhamilton/m-r-ham.github.io/mitchymaps.github.io/projects/mlb-analysis/data/mlb_stadiums_geocoded_logos.csv/mlb_stadiums_geocoded_with_logos.csv\u001b[39m\u001b[38;5;124m'\u001b[39m\n",
      "File \u001b[0;32m~/anaconda3/lib/python3.11/site-packages/geopandas/geodataframe.py:1322\u001b[0m, in \u001b[0;36mGeoDataFrame.set_crs\u001b[0;34m(self, crs, epsg, inplace, allow_override)\u001b[0m\n\u001b[1;32m   1320\u001b[0m \u001b[38;5;28;01melse\u001b[39;00m:\n\u001b[1;32m   1321\u001b[0m     df \u001b[38;5;241m=\u001b[39m \u001b[38;5;28mself\u001b[39m\n\u001b[0;32m-> 1322\u001b[0m df\u001b[38;5;241m.\u001b[39mgeometry \u001b[38;5;241m=\u001b[39m df\u001b[38;5;241m.\u001b[39mgeometry\u001b[38;5;241m.\u001b[39mset_crs(\n\u001b[1;32m   1323\u001b[0m     crs\u001b[38;5;241m=\u001b[39mcrs, epsg\u001b[38;5;241m=\u001b[39mepsg, allow_override\u001b[38;5;241m=\u001b[39mallow_override, inplace\u001b[38;5;241m=\u001b[39m\u001b[38;5;28;01mTrue\u001b[39;00m\n\u001b[1;32m   1324\u001b[0m )\n\u001b[1;32m   1325\u001b[0m \u001b[38;5;28;01mreturn\u001b[39;00m df\n",
      "File \u001b[0;32m~/anaconda3/lib/python3.11/site-packages/geopandas/geoseries.py:1078\u001b[0m, in \u001b[0;36mGeoSeries.set_crs\u001b[0;34m(self, crs, epsg, inplace, allow_override)\u001b[0m\n\u001b[1;32m   1075\u001b[0m     \u001b[38;5;28;01mraise\u001b[39;00m \u001b[38;5;167;01mValueError\u001b[39;00m(\u001b[38;5;124m\"\u001b[39m\u001b[38;5;124mMust pass either crs or epsg.\u001b[39m\u001b[38;5;124m\"\u001b[39m)\n\u001b[1;32m   1077\u001b[0m \u001b[38;5;28;01mif\u001b[39;00m \u001b[38;5;129;01mnot\u001b[39;00m allow_override \u001b[38;5;129;01mand\u001b[39;00m \u001b[38;5;28mself\u001b[39m\u001b[38;5;241m.\u001b[39mcrs \u001b[38;5;129;01mis\u001b[39;00m \u001b[38;5;129;01mnot\u001b[39;00m \u001b[38;5;28;01mNone\u001b[39;00m \u001b[38;5;129;01mand\u001b[39;00m \u001b[38;5;129;01mnot\u001b[39;00m \u001b[38;5;28mself\u001b[39m\u001b[38;5;241m.\u001b[39mcrs \u001b[38;5;241m==\u001b[39m crs:\n\u001b[0;32m-> 1078\u001b[0m     \u001b[38;5;28;01mraise\u001b[39;00m \u001b[38;5;167;01mValueError\u001b[39;00m(\n\u001b[1;32m   1079\u001b[0m         \u001b[38;5;124m\"\u001b[39m\u001b[38;5;124mThe GeoSeries already has a CRS which is not equal to the passed \u001b[39m\u001b[38;5;124m\"\u001b[39m\n\u001b[1;32m   1080\u001b[0m         \u001b[38;5;124m\"\u001b[39m\u001b[38;5;124mCRS. Specify \u001b[39m\u001b[38;5;124m'\u001b[39m\u001b[38;5;124mallow_override=True\u001b[39m\u001b[38;5;124m'\u001b[39m\u001b[38;5;124m to allow replacing the existing \u001b[39m\u001b[38;5;124m\"\u001b[39m\n\u001b[1;32m   1081\u001b[0m         \u001b[38;5;124m\"\u001b[39m\u001b[38;5;124mCRS without doing any transformation. If you actually want to \u001b[39m\u001b[38;5;124m\"\u001b[39m\n\u001b[1;32m   1082\u001b[0m         \u001b[38;5;124m\"\u001b[39m\u001b[38;5;124mtransform the geometries, use \u001b[39m\u001b[38;5;124m'\u001b[39m\u001b[38;5;124mGeoSeries.to_crs\u001b[39m\u001b[38;5;124m'\u001b[39m\u001b[38;5;124m instead.\u001b[39m\u001b[38;5;124m\"\u001b[39m\n\u001b[1;32m   1083\u001b[0m     )\n\u001b[1;32m   1084\u001b[0m \u001b[38;5;28;01mif\u001b[39;00m \u001b[38;5;129;01mnot\u001b[39;00m inplace:\n\u001b[1;32m   1085\u001b[0m     result \u001b[38;5;241m=\u001b[39m \u001b[38;5;28mself\u001b[39m\u001b[38;5;241m.\u001b[39mcopy()\n",
      "\u001b[0;31mValueError\u001b[0m: The GeoSeries already has a CRS which is not equal to the passed CRS. Specify 'allow_override=True' to allow replacing the existing CRS without doing any transformation. If you actually want to transform the geometries, use 'GeoSeries.to_crs' instead."
     ]
    }
   ],
   "source": [
    "import geopandas as gpd\n",
    "from pygris import tracts\n",
    "import pandas as pd\n",
    "\n",
    "# Define the FIPS codes for the states to exclude Alaska and Hawaii\n",
    "fips = [state for state in tracts.states_2021()['STUSPS'] if state not in ['AK', 'HI']]\n",
    "\n",
    "# Initialize an empty GeoDataFrame for all census tracts\n",
    "all_census_tracts = gpd.GeoDataFrame()\n",
    "\n",
    "# Loop through each state and fetch the census tracts\n",
    "for state in fips:\n",
    "    state_tracts = tracts(state=state, year=2021, cb=True)\n",
    "    all_census_tracts = pd.concat([all_census_tracts, state_tracts], ignore_index=True)\n",
    "\n",
    "# Ensure the CRS is set correctly\n",
    "all_census_tracts = all_census_tracts.set_crs(epsg=4326, allow_override=True)\n",
    "\n",
    "# Load MLB stadiums data\n",
    "stadium_csv_path = '/path/to/your/mlb_stadiums_geocoded_with_logos.csv'\n",
    "stadiums_gdf = gpd.read_file(stadium_csv_path)\n",
    "stadiums_gdf = gpd.GeoDataFrame(stadiums_gdf, geometry=gpd.points_from_xy(stadiums_gdf.Longitude, stadiums_gdf.Latitude), crs=\"EPSG:4326\")\n",
    "\n",
    "print(\"Loaded census tracts and MLB stadiums data.\")\n"
   ]
  },
  {
   "cell_type": "code",
   "execution_count": null,
   "metadata": {},
   "outputs": [],
   "source": [
    "# Ensure the stadiums GeoDataFrame is in the correct CRS and project to a suitable CRS\n",
    "stadiums_gdf = stadiums_gdf.to_crs(epsg=3857)\n",
    "\n",
    "# Create a 32 km (20-mile) buffer around each stadium\n",
    "buffer_distance = 32000  # in meters\n",
    "stadiums_gdf['buffer'] = stadiums_gdf.buffer(buffer_distance)\n",
    "\n",
    "# Transform the buffers back to the original geographic CRS\n",
    "stadiums_gdf = stadiums_gdf.set_geometry('buffer').to_crs(epsg=4326)\n",
    "\n",
    "# Ensure all census tracts are in the correct CRS\n",
    "all_census_tracts = all_census_tracts.to_crs(epsg=4326)\n",
    "\n",
    "# Find census tracts within the buffers\n",
    "all_tracts_in_buffers = gpd.sjoin(all_census_tracts, stadiums_gdf[['buffer']], how='inner', op='intersects')"
   ]
  },
  {
   "cell_type": "code",
   "execution_count": null,
   "metadata": {},
   "outputs": [],
   "source": [
    "from pygris.data import get_census\n",
    "\n",
    "# Define the variables to fetch\n",
    "variables = [\n",
    "    \"B01003_001E\",  # Total Population\n",
    "    \"B19013_001E\",  # Median Household Income\n",
    "    \"B25077_001E\",  # Median Home Value\n",
    "    \"B02001_002E\",  # White Population\n",
    "    \"B02001_003E\",  # Black Population\n",
    "    \"B02001_004E\",  # American Indian and Alaska Native Population\n",
    "    \"B02001_005E\",  # Asian Population\n",
    "    \"B02001_006E\",  # Native Hawaiian and Other Pacific Islander Population\n",
    "    \"B02001_007E\",  # Some Other Race Population\n",
    "    \"B02001_008E\"   # Two or More Races Population\n",
    "]\n",
    "\n",
    "# Fetch census data for the required variables\n",
    "census_data = get_census(\n",
    "    dataset='acs/acs5',\n",
    "    variables=variables,\n",
    "    year=2021,\n",
    "    params={\n",
    "        \"for\": \"tract:*\",\n",
    "        \"in\": f\"state:*\"\n",
    "    },\n",
    "    guess_dtypes=True,\n",
    "    return_geoid=True\n",
    ")\n",
    "\n",
    "# Convert to GeoDataFrame and merge with census tracts\n",
    "census_gdf = gpd.GeoDataFrame(census_data)\n",
    "census_gdf = census_gdf.set_geometry('geometry')\n",
    "all_tracts_in_buffers = all_tracts_in_buffers.merge(census_gdf, on='GEOID')\n",
    "\n",
    "# Calculate the area of each tract in square kilometers\n",
    "all_tracts_in_buffers['area_km2'] = all_tracts_in_buffers.geometry.area / 1e6\n",
    "\n",
    "# Calculate population density (people per square kilometer)\n",
    "all_tracts_in_buffers['population_density'] = all_tracts_in_buffers['B01003_001E'] / all_tracts_in_buffers['area_km2']\n",
    "\n",
    "# Calculate population density (people per square mile)\n",
    "all_tracts_in_buffers['population_density_sq_mi'] = all_tracts_in_buffers['B01003_001E'] / (all_tracts_in_buffers['area_km2'] * 0.386102)"
   ]
  },
  {
   "cell_type": "code",
   "execution_count": null,
   "metadata": {},
   "outputs": [],
   "source": [
    "import matplotlib.pyplot as plt\n",
    "\n",
    "# Define the color scale range based on actual data\n",
    "vmin = all_tracts_in_buffers['population_density_sq_mi'].min()\n",
    "vmax = all_tracts_in_buffers['population_density_sq_mi'].max()\n",
    "\n",
    "# Plot Population Density within buffers\n",
    "fig, ax = plt.subplots(figsize=(10, 6))\n",
    "all_tracts_in_buffers.plot(column='population_density_sq_mi', cmap='viridis', legend=True, ax=ax, vmin=vmin, vmax=vmax)\n",
    "stadiums_gdf.set_geometry('geometry').plot(ax=ax, color='red', markersize=50, label='Stadiums')\n",
    "plt.title('Population Density (people per sq mile) within 20-Mile Buffers Around MLB Stadiums')\n",
    "plt.legend()\n",
    "plt.show()\n",
    "\n",
    "# Save the plot\n",
    "plt.savefig('/path/to/save/density_mlb_stadiums.png', dpi=300, bbox_inches='tight')"
   ]
  }
 ],
 "metadata": {
  "kernelspec": {
   "display_name": "Python 3 (ipykernel)",
   "language": "python",
   "name": "python3"
  },
  "language_info": {
   "codemirror_mode": {
    "name": "ipython",
    "version": 3
   },
   "file_extension": ".py",
   "mimetype": "text/x-python",
   "name": "python",
   "nbconvert_exporter": "python",
   "pygments_lexer": "ipython3",
   "version": "3.11.5"
  }
 },
 "nbformat": 4,
 "nbformat_minor": 2
}
